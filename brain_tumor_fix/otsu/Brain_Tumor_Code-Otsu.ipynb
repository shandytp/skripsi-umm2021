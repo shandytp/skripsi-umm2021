{
 "cells": [
  {
   "cell_type": "markdown",
   "metadata": {},
   "source": [
    "# Model Initialization "
   ]
  },
  {
   "cell_type": "code",
   "execution_count": 10,
   "metadata": {
    "ExecuteTime": {
     "end_time": "2021-04-26T09:33:23.409332Z",
     "start_time": "2021-04-26T09:33:23.405331Z"
    }
   },
   "outputs": [],
   "source": [
    "import numpy as np\n",
    "import os\n",
    "import cv2\n",
    "from tensorflow.keras.models import Sequential\n",
    "from tensorflow.keras.layers import Convolution2D, MaxPooling2D, Flatten, Dense\n",
    "from tensorflow.keras.optimizers import Adam"
   ]
  },
  {
   "cell_type": "code",
   "execution_count": 11,
   "metadata": {
    "ExecuteTime": {
     "end_time": "2021-04-26T09:33:24.005940Z",
     "start_time": "2021-04-26T09:33:23.771758Z"
    }
   },
   "outputs": [
    {
     "name": "stdout",
     "output_type": "stream",
     "text": [
      "Model: \"sequential_1\"\n",
      "_________________________________________________________________\n",
      "Layer (type)                 Output Shape              Param #   \n",
      "=================================================================\n",
      "conv2d_3 (Conv2D)            (None, 333, 333, 32)      896       \n",
      "_________________________________________________________________\n",
      "max_pooling2d_3 (MaxPooling2 (None, 166, 166, 32)      0         \n",
      "_________________________________________________________________\n",
      "conv2d_4 (Conv2D)            (None, 55, 55, 32)        9248      \n",
      "_________________________________________________________________\n",
      "max_pooling2d_4 (MaxPooling2 (None, 27, 27, 32)        0         \n",
      "_________________________________________________________________\n",
      "conv2d_5 (Conv2D)            (None, 9, 9, 32)          9248      \n",
      "_________________________________________________________________\n",
      "max_pooling2d_5 (MaxPooling2 (None, 4, 4, 32)          0         \n",
      "_________________________________________________________________\n",
      "flatten_1 (Flatten)          (None, 512)               0         \n",
      "=================================================================\n",
      "Total params: 19,392\n",
      "Trainable params: 19,392\n",
      "Non-trainable params: 0\n",
      "_________________________________________________________________\n"
     ]
    }
   ],
   "source": [
    "classifier = Sequential()\n",
    "classifier.add(Convolution2D(32, (3,3),strides= (3,3), input_shape=(1000,1000,3), activation='relu'))\n",
    "classifier.add(MaxPooling2D(pool_size=(2,2)))\n",
    "classifier.add(Convolution2D(32, (3,3),strides= (3,3), input_shape=(1000,1000,3), activation='relu'))\n",
    "classifier.add(MaxPooling2D(pool_size=(2,2)))\n",
    "classifier.add(Convolution2D(32, (3,3),strides= (3,3), input_shape=(1000,1000,3), activation='relu'))\n",
    "classifier.add(MaxPooling2D(pool_size=(2,2)))\n",
    "classifier.add(Flatten())\n",
    "\n",
    "classifier.summary()"
   ]
  },
  {
   "cell_type": "markdown",
   "metadata": {},
   "source": [
    "# Preprocessing "
   ]
  },
  {
   "cell_type": "code",
   "execution_count": 12,
   "metadata": {
    "ExecuteTime": {
     "end_time": "2021-04-26T09:33:25.354886Z",
     "start_time": "2021-04-26T09:33:25.350849Z"
    }
   },
   "outputs": [],
   "source": [
    "X = np.ones((253, 512))"
   ]
  },
  {
   "cell_type": "code",
   "execution_count": 13,
   "metadata": {
    "ExecuteTime": {
     "end_time": "2021-04-26T09:33:25.634820Z",
     "start_time": "2021-04-26T09:33:25.630841Z"
    }
   },
   "outputs": [],
   "source": [
    "i = 0"
   ]
  },
  {
   "cell_type": "code",
   "execution_count": 14,
   "metadata": {
    "ExecuteTime": {
     "end_time": "2021-04-26T09:33:25.830903Z",
     "start_time": "2021-04-26T09:33:25.827904Z"
    }
   },
   "outputs": [],
   "source": [
    "TRAIN_YES = 'D:/Kuliah baru/SMT 8/Coding Skripsi/brain_tumor_fix/otsu/train/yes'\n",
    "TRAIN_NO = 'D:/Kuliah baru/SMT 8/Coding Skripsi/brain_tumor_fix/otsu/train/no'\n",
    "VAL_YES = 'D:/Kuliah baru/SMT 8/Coding Skripsi/brain_tumor_fix/otsu/val/yes'\n",
    "VAL_NO = 'D:/Kuliah baru/SMT 8/Coding Skripsi/brain_tumor_fix/otsu/val/no'"
   ]
  },
  {
   "cell_type": "code",
   "execution_count": 15,
   "metadata": {
    "ExecuteTime": {
     "end_time": "2021-04-26T09:33:38.369030Z",
     "start_time": "2021-04-26T09:33:29.783061Z"
    }
   },
   "outputs": [],
   "source": [
    "os.chdir(TRAIN_YES)\n",
    "for filename in os.listdir(TRAIN_YES):\n",
    "    img = cv2.imread(filename)\n",
    "    img = cv2.resize(img,(1000,1000))\n",
    "    img = np.divide(img,255)\n",
    "    img = img.reshape(1,1000,1000,3)\n",
    "    X[i] = classifier.predict(img)\n",
    "    i = i + 1"
   ]
  },
  {
   "cell_type": "code",
   "execution_count": 16,
   "metadata": {
    "ExecuteTime": {
     "end_time": "2021-04-26T09:33:43.555991Z",
     "start_time": "2021-04-26T09:33:38.369921Z"
    }
   },
   "outputs": [],
   "source": [
    "os.chdir(TRAIN_NO)\n",
    "for filename in os.listdir(TRAIN_NO):\n",
    "    img = cv2.imread(filename)\n",
    "    img = cv2.resize(img,(1000,1000))\n",
    "    img = np.divide(img,255)\n",
    "    img = img.reshape(1,1000,1000,3)\n",
    "    X[i] = classifier.predict(img)\n",
    "    i = i + 1"
   ]
  },
  {
   "cell_type": "code",
   "execution_count": 17,
   "metadata": {
    "ExecuteTime": {
     "end_time": "2021-04-26T09:33:45.631697Z",
     "start_time": "2021-04-26T09:33:43.556875Z"
    }
   },
   "outputs": [],
   "source": [
    "os.chdir(VAL_YES)\n",
    "for filename in os.listdir(VAL_YES):\n",
    "    img = cv2.imread(filename)\n",
    "    img = cv2.resize(img,(1000,1000))\n",
    "    img = np.divide(img,255)\n",
    "    img = img.reshape(1,1000,1000,3)\n",
    "    X[i] = classifier.predict(img)\n",
    "    i = i + 1"
   ]
  },
  {
   "cell_type": "code",
   "execution_count": 18,
   "metadata": {
    "ExecuteTime": {
     "end_time": "2021-04-26T09:33:47.094943Z",
     "start_time": "2021-04-26T09:33:45.632554Z"
    }
   },
   "outputs": [],
   "source": [
    "os.chdir(VAL_NO)\n",
    "for filename in os.listdir(VAL_NO):\n",
    "    img = cv2.imread(filename)\n",
    "    img = cv2.resize(img,(1000,1000))\n",
    "    img = np.divide(img,255)\n",
    "    img = img.reshape(1,1000,1000,3)\n",
    "    X[i] = classifier.predict(img)\n",
    "    i = i + 1"
   ]
  },
  {
   "cell_type": "code",
   "execution_count": 19,
   "metadata": {
    "ExecuteTime": {
     "end_time": "2021-04-26T09:33:49.960041Z",
     "start_time": "2021-04-26T09:33:49.954038Z"
    }
   },
   "outputs": [],
   "source": [
    "y = np.concatenate((np.ones(121), np.zeros(79), np.ones(34), np.zeros(19)))"
   ]
  },
  {
   "cell_type": "markdown",
   "metadata": {},
   "source": [
    "# Preparation Training and Test Splitting "
   ]
  },
  {
   "cell_type": "code",
   "execution_count": 20,
   "metadata": {
    "ExecuteTime": {
     "end_time": "2021-04-26T09:34:07.525694Z",
     "start_time": "2021-04-26T09:34:07.151528Z"
    }
   },
   "outputs": [
    {
     "data": {
      "text/plain": [
       "((202, 512), (51, 512), (202,), (51,))"
      ]
     },
     "execution_count": 20,
     "metadata": {},
     "output_type": "execute_result"
    }
   ],
   "source": [
    "from sklearn.model_selection import train_test_split\n",
    "\n",
    "X_train, X_test, y_train, y_test = train_test_split(X, y, test_size=0.2, random_state=9875)\n",
    "X_train.shape, X_test.shape, y_train.shape, y_test.shape"
   ]
  },
  {
   "cell_type": "code",
   "execution_count": 21,
   "metadata": {
    "ExecuteTime": {
     "end_time": "2021-04-26T09:34:07.600764Z",
     "start_time": "2021-04-26T09:34:07.550737Z"
    }
   },
   "outputs": [],
   "source": [
    "from sklearn.svm import LinearSVC\n",
    "from sklearn.model_selection import GridSearchCV\n",
    "\n",
    "model = LinearSVC()\n",
    "parameters = {'C':[0.1,1,10,100,1000,10000,100000]}\n",
    "grid_search = GridSearchCV(param_grid = parameters, estimator = model, verbose = 3)"
   ]
  },
  {
   "cell_type": "code",
   "execution_count": 22,
   "metadata": {
    "ExecuteTime": {
     "end_time": "2021-04-26T09:34:11.222563Z",
     "start_time": "2021-04-26T09:34:08.291551Z"
    }
   },
   "outputs": [
    {
     "name": "stdout",
     "output_type": "stream",
     "text": [
      "Fitting 5 folds for each of 7 candidates, totalling 35 fits\n",
      "[CV] C=0.1 ...........................................................\n",
      "[CV] ............................... C=0.1, score=0.854, total=   0.0s\n",
      "[CV] C=0.1 ...........................................................\n",
      "[CV] ............................... C=0.1, score=0.683, total=   0.0s\n",
      "[CV] C=0.1 ...........................................................\n",
      "[CV] ............................... C=0.1, score=0.725, total=   0.0s\n",
      "[CV] C=0.1 ...........................................................\n",
      "[CV] ............................... C=0.1, score=0.775, total=   0.0s\n",
      "[CV] C=0.1 ...........................................................\n",
      "[CV] ............................... C=0.1, score=0.725, total=   0.0s\n",
      "[CV] C=1 .............................................................\n",
      "[CV] ................................. C=1, score=0.829, total=   0.0s\n",
      "[CV] C=1 .............................................................\n",
      "[CV] ................................. C=1, score=0.659, total=   0.0s\n",
      "[CV] C=1 .............................................................\n",
      "[CV] ................................. C=1, score=0.675, total=   0.0s\n",
      "[CV] C=1 .............................................................\n",
      "[CV] ................................. C=1, score=0.825, total=   0.0s\n",
      "[CV] C=1 .............................................................\n",
      "[CV] ................................. C=1, score=0.675, total=   0.0s\n",
      "[CV] C=10 ............................................................\n"
     ]
    },
    {
     "name": "stderr",
     "output_type": "stream",
     "text": [
      "[Parallel(n_jobs=1)]: Using backend SequentialBackend with 1 concurrent workers.\n",
      "[Parallel(n_jobs=1)]: Done   1 out of   1 | elapsed:    0.0s remaining:    0.0s\n",
      "[Parallel(n_jobs=1)]: Done   2 out of   2 | elapsed:    0.0s remaining:    0.0s\n",
      "C:\\Users\\shand\\anaconda3\\envs\\sandbox\\lib\\site-packages\\sklearn\\svm\\_base.py:977: ConvergenceWarning: Liblinear failed to converge, increase the number of iterations.\n",
      "  \"the number of iterations.\", ConvergenceWarning)\n",
      "C:\\Users\\shand\\anaconda3\\envs\\sandbox\\lib\\site-packages\\sklearn\\svm\\_base.py:977: ConvergenceWarning: Liblinear failed to converge, increase the number of iterations.\n",
      "  \"the number of iterations.\", ConvergenceWarning)\n"
     ]
    },
    {
     "name": "stdout",
     "output_type": "stream",
     "text": [
      "[CV] ................................ C=10, score=0.732, total=   0.1s\n",
      "[CV] C=10 ............................................................\n",
      "[CV] ................................ C=10, score=0.732, total=   0.1s\n",
      "[CV] C=10 ............................................................\n"
     ]
    },
    {
     "name": "stderr",
     "output_type": "stream",
     "text": [
      "C:\\Users\\shand\\anaconda3\\envs\\sandbox\\lib\\site-packages\\sklearn\\svm\\_base.py:977: ConvergenceWarning: Liblinear failed to converge, increase the number of iterations.\n",
      "  \"the number of iterations.\", ConvergenceWarning)\n",
      "C:\\Users\\shand\\anaconda3\\envs\\sandbox\\lib\\site-packages\\sklearn\\svm\\_base.py:977: ConvergenceWarning: Liblinear failed to converge, increase the number of iterations.\n",
      "  \"the number of iterations.\", ConvergenceWarning)\n"
     ]
    },
    {
     "name": "stdout",
     "output_type": "stream",
     "text": [
      "[CV] ................................ C=10, score=0.650, total=   0.1s\n",
      "[CV] C=10 ............................................................\n",
      "[CV] ................................ C=10, score=0.825, total=   0.1s\n",
      "[CV] C=10 ............................................................\n"
     ]
    },
    {
     "name": "stderr",
     "output_type": "stream",
     "text": [
      "C:\\Users\\shand\\anaconda3\\envs\\sandbox\\lib\\site-packages\\sklearn\\svm\\_base.py:977: ConvergenceWarning: Liblinear failed to converge, increase the number of iterations.\n",
      "  \"the number of iterations.\", ConvergenceWarning)\n",
      "C:\\Users\\shand\\anaconda3\\envs\\sandbox\\lib\\site-packages\\sklearn\\svm\\_base.py:977: ConvergenceWarning: Liblinear failed to converge, increase the number of iterations.\n",
      "  \"the number of iterations.\", ConvergenceWarning)\n"
     ]
    },
    {
     "name": "stdout",
     "output_type": "stream",
     "text": [
      "[CV] ................................ C=10, score=0.725, total=   0.1s\n",
      "[CV] C=100 ...........................................................\n",
      "[CV] ............................... C=100, score=0.707, total=   0.1s\n",
      "[CV] C=100 ...........................................................\n"
     ]
    },
    {
     "name": "stderr",
     "output_type": "stream",
     "text": [
      "C:\\Users\\shand\\anaconda3\\envs\\sandbox\\lib\\site-packages\\sklearn\\svm\\_base.py:977: ConvergenceWarning: Liblinear failed to converge, increase the number of iterations.\n",
      "  \"the number of iterations.\", ConvergenceWarning)\n",
      "C:\\Users\\shand\\anaconda3\\envs\\sandbox\\lib\\site-packages\\sklearn\\svm\\_base.py:977: ConvergenceWarning: Liblinear failed to converge, increase the number of iterations.\n",
      "  \"the number of iterations.\", ConvergenceWarning)\n",
      "C:\\Users\\shand\\anaconda3\\envs\\sandbox\\lib\\site-packages\\sklearn\\svm\\_base.py:977: ConvergenceWarning: Liblinear failed to converge, increase the number of iterations.\n",
      "  \"the number of iterations.\", ConvergenceWarning)\n"
     ]
    },
    {
     "name": "stdout",
     "output_type": "stream",
     "text": [
      "[CV] ............................... C=100, score=0.707, total=   0.1s\n",
      "[CV] C=100 ...........................................................\n",
      "[CV] ............................... C=100, score=0.675, total=   0.1s\n",
      "[CV] C=100 ...........................................................\n"
     ]
    },
    {
     "name": "stderr",
     "output_type": "stream",
     "text": [
      "C:\\Users\\shand\\anaconda3\\envs\\sandbox\\lib\\site-packages\\sklearn\\svm\\_base.py:977: ConvergenceWarning: Liblinear failed to converge, increase the number of iterations.\n",
      "  \"the number of iterations.\", ConvergenceWarning)\n"
     ]
    },
    {
     "name": "stdout",
     "output_type": "stream",
     "text": [
      "[CV] ............................... C=100, score=0.825, total=   0.1s\n",
      "[CV] C=100 ...........................................................\n",
      "[CV] ............................... C=100, score=0.700, total=   0.1s\n",
      "[CV] C=1000 ..........................................................\n"
     ]
    },
    {
     "name": "stderr",
     "output_type": "stream",
     "text": [
      "C:\\Users\\shand\\anaconda3\\envs\\sandbox\\lib\\site-packages\\sklearn\\svm\\_base.py:977: ConvergenceWarning: Liblinear failed to converge, increase the number of iterations.\n",
      "  \"the number of iterations.\", ConvergenceWarning)\n",
      "C:\\Users\\shand\\anaconda3\\envs\\sandbox\\lib\\site-packages\\sklearn\\svm\\_base.py:977: ConvergenceWarning: Liblinear failed to converge, increase the number of iterations.\n",
      "  \"the number of iterations.\", ConvergenceWarning)\n",
      "C:\\Users\\shand\\anaconda3\\envs\\sandbox\\lib\\site-packages\\sklearn\\svm\\_base.py:977: ConvergenceWarning: Liblinear failed to converge, increase the number of iterations.\n",
      "  \"the number of iterations.\", ConvergenceWarning)\n"
     ]
    },
    {
     "name": "stdout",
     "output_type": "stream",
     "text": [
      "[CV] .............................. C=1000, score=0.732, total=   0.1s\n",
      "[CV] C=1000 ..........................................................\n",
      "[CV] .............................. C=1000, score=0.707, total=   0.1s\n",
      "[CV] C=1000 ..........................................................\n",
      "[CV] .............................. C=1000, score=0.675, total=   0.1s\n",
      "[CV] C=1000 ..........................................................\n"
     ]
    },
    {
     "name": "stderr",
     "output_type": "stream",
     "text": [
      "C:\\Users\\shand\\anaconda3\\envs\\sandbox\\lib\\site-packages\\sklearn\\svm\\_base.py:977: ConvergenceWarning: Liblinear failed to converge, increase the number of iterations.\n",
      "  \"the number of iterations.\", ConvergenceWarning)\n",
      "C:\\Users\\shand\\anaconda3\\envs\\sandbox\\lib\\site-packages\\sklearn\\svm\\_base.py:977: ConvergenceWarning: Liblinear failed to converge, increase the number of iterations.\n",
      "  \"the number of iterations.\", ConvergenceWarning)\n"
     ]
    },
    {
     "name": "stdout",
     "output_type": "stream",
     "text": [
      "[CV] .............................. C=1000, score=0.825, total=   0.1s\n",
      "[CV] C=1000 ..........................................................\n",
      "[CV] .............................. C=1000, score=0.700, total=   0.1s\n",
      "[CV] C=10000 .........................................................\n"
     ]
    },
    {
     "name": "stderr",
     "output_type": "stream",
     "text": [
      "C:\\Users\\shand\\anaconda3\\envs\\sandbox\\lib\\site-packages\\sklearn\\svm\\_base.py:977: ConvergenceWarning: Liblinear failed to converge, increase the number of iterations.\n",
      "  \"the number of iterations.\", ConvergenceWarning)\n",
      "C:\\Users\\shand\\anaconda3\\envs\\sandbox\\lib\\site-packages\\sklearn\\svm\\_base.py:977: ConvergenceWarning: Liblinear failed to converge, increase the number of iterations.\n",
      "  \"the number of iterations.\", ConvergenceWarning)\n"
     ]
    },
    {
     "name": "stdout",
     "output_type": "stream",
     "text": [
      "[CV] ............................. C=10000, score=0.732, total=   0.1s\n",
      "[CV] C=10000 .........................................................\n",
      "[CV] ............................. C=10000, score=0.707, total=   0.1s\n",
      "[CV] C=10000 .........................................................\n",
      "[CV] ............................. C=10000, score=0.675, total=   0.1s\n",
      "[CV] C=10000 .........................................................\n",
      "[CV] ............................. C=10000, score=0.825, total=   0.1s\n",
      "[CV] C=10000 .........................................................\n"
     ]
    },
    {
     "name": "stderr",
     "output_type": "stream",
     "text": [
      "C:\\Users\\shand\\anaconda3\\envs\\sandbox\\lib\\site-packages\\sklearn\\svm\\_base.py:977: ConvergenceWarning: Liblinear failed to converge, increase the number of iterations.\n",
      "  \"the number of iterations.\", ConvergenceWarning)\n",
      "C:\\Users\\shand\\anaconda3\\envs\\sandbox\\lib\\site-packages\\sklearn\\svm\\_base.py:977: ConvergenceWarning: Liblinear failed to converge, increase the number of iterations.\n",
      "  \"the number of iterations.\", ConvergenceWarning)\n"
     ]
    },
    {
     "name": "stdout",
     "output_type": "stream",
     "text": [
      "[CV] ............................. C=10000, score=0.700, total=   0.1s\n",
      "[CV] C=100000 ........................................................\n",
      "[CV] ............................ C=100000, score=0.732, total=   0.1s\n",
      "[CV] C=100000 ........................................................\n"
     ]
    },
    {
     "name": "stderr",
     "output_type": "stream",
     "text": [
      "C:\\Users\\shand\\anaconda3\\envs\\sandbox\\lib\\site-packages\\sklearn\\svm\\_base.py:977: ConvergenceWarning: Liblinear failed to converge, increase the number of iterations.\n",
      "  \"the number of iterations.\", ConvergenceWarning)\n"
     ]
    },
    {
     "name": "stdout",
     "output_type": "stream",
     "text": [
      "[CV] ............................ C=100000, score=0.707, total=   0.1s\n",
      "[CV] C=100000 ........................................................\n",
      "[CV] ............................ C=100000, score=0.675, total=   0.1s\n",
      "[CV] C=100000 ........................................................\n"
     ]
    },
    {
     "name": "stderr",
     "output_type": "stream",
     "text": [
      "C:\\Users\\shand\\anaconda3\\envs\\sandbox\\lib\\site-packages\\sklearn\\svm\\_base.py:977: ConvergenceWarning: Liblinear failed to converge, increase the number of iterations.\n",
      "  \"the number of iterations.\", ConvergenceWarning)\n",
      "C:\\Users\\shand\\anaconda3\\envs\\sandbox\\lib\\site-packages\\sklearn\\svm\\_base.py:977: ConvergenceWarning: Liblinear failed to converge, increase the number of iterations.\n",
      "  \"the number of iterations.\", ConvergenceWarning)\n"
     ]
    },
    {
     "name": "stdout",
     "output_type": "stream",
     "text": [
      "[CV] ............................ C=100000, score=0.825, total=   0.1s\n",
      "[CV] C=100000 ........................................................\n",
      "[CV] ............................ C=100000, score=0.700, total=   0.1s\n"
     ]
    },
    {
     "name": "stderr",
     "output_type": "stream",
     "text": [
      "C:\\Users\\shand\\anaconda3\\envs\\sandbox\\lib\\site-packages\\sklearn\\svm\\_base.py:977: ConvergenceWarning: Liblinear failed to converge, increase the number of iterations.\n",
      "  \"the number of iterations.\", ConvergenceWarning)\n",
      "[Parallel(n_jobs=1)]: Done  35 out of  35 | elapsed:    2.8s finished\n"
     ]
    }
   ],
   "source": [
    "grid_search = grid_search.fit(X_train,y_train)"
   ]
  },
  {
   "cell_type": "code",
   "execution_count": 23,
   "metadata": {
    "ExecuteTime": {
     "end_time": "2021-04-26T09:34:11.935677Z",
     "start_time": "2021-04-26T09:34:11.926157Z"
    }
   },
   "outputs": [
    {
     "name": "stdout",
     "output_type": "stream",
     "text": [
      "Validation Accuracy: 0.7843137254901961\n",
      "Training Accuracy:   0.801980198019802\n"
     ]
    }
   ],
   "source": [
    "print(\"Validation Accuracy:\",grid_search.score(X_test,y_test))\n",
    "print(\"Training Accuracy:  \",grid_search.score(X_train, y_train))"
   ]
  },
  {
   "cell_type": "code",
   "execution_count": 24,
   "metadata": {
    "ExecuteTime": {
     "end_time": "2021-04-26T09:34:14.323982Z",
     "start_time": "2021-04-26T09:34:14.318978Z"
    }
   },
   "outputs": [
    {
     "data": {
      "text/plain": [
       "{'C': 0.1}"
      ]
     },
     "execution_count": 24,
     "metadata": {},
     "output_type": "execute_result"
    }
   ],
   "source": [
    "grid_search.best_params_"
   ]
  },
  {
   "cell_type": "code",
   "execution_count": 25,
   "metadata": {
    "ExecuteTime": {
     "end_time": "2021-04-26T09:34:15.940638Z",
     "start_time": "2021-04-26T09:34:15.927636Z"
    }
   },
   "outputs": [
    {
     "name": "stdout",
     "output_type": "stream",
     "text": [
      "[[11  9]\n",
      " [ 2 29]]\n",
      "\n",
      "\n",
      "              precision    recall  f1-score   support\n",
      "\n",
      "         0.0       0.85      0.55      0.67        20\n",
      "         1.0       0.76      0.94      0.84        31\n",
      "\n",
      "    accuracy                           0.78        51\n",
      "   macro avg       0.80      0.74      0.75        51\n",
      "weighted avg       0.80      0.78      0.77        51\n",
      "\n"
     ]
    }
   ],
   "source": [
    "from sklearn.metrics import classification_report,confusion_matrix\n",
    "\n",
    "predictions=grid_search.predict(X_test)\n",
    "print(confusion_matrix(y_test,predictions))\n",
    "print('\\n')\n",
    "print(classification_report(y_test,predictions))"
   ]
  },
  {
   "cell_type": "markdown",
   "metadata": {},
   "source": [
    "https://stackoverflow.com/questions/20113206/scikit-learn-svc-decision-function-and-predict\n",
    "\n",
    "https://stats.stackexchange.com/questions/329857/what-is-the-difference-between-decision-function-predict-proba-and-predict-fun\n",
    "\n",
    "Pakai Decision Function atau Predict?"
   ]
  },
  {
   "cell_type": "code",
   "execution_count": 26,
   "metadata": {
    "ExecuteTime": {
     "end_time": "2021-04-26T09:34:18.076835Z",
     "start_time": "2021-04-26T09:34:18.063832Z"
    }
   },
   "outputs": [
    {
     "name": "stdout",
     "output_type": "stream",
     "text": [
      "F1-Score: 0.8405797101449276\n",
      "Precision with Decision Function : 0.8898405854355651\n",
      "Precision with Predict Function : 0.7531375878025235\n"
     ]
    }
   ],
   "source": [
    "from sklearn.metrics import f1_score, average_precision_score\n",
    "\n",
    "y_score = grid_search.decision_function(X_test) #pairwise classifier\n",
    "f1score = f1_score(y_test, predictions)\n",
    "average_precision_decision = average_precision_score(y_test, y_score)\n",
    "average_precision_predict = average_precision_score(y_test, predictions)\n",
    "\n",
    "print(f'F1-Score: {f1score}')\n",
    "print(f'Precision with Decision Function : {average_precision_decision}')\n",
    "print(f'Precision with Predict Function : {average_precision_predict}')"
   ]
  },
  {
   "cell_type": "code",
   "execution_count": 27,
   "metadata": {
    "ExecuteTime": {
     "end_time": "2021-04-26T09:34:19.600617Z",
     "start_time": "2021-04-26T09:34:19.596597Z"
    }
   },
   "outputs": [],
   "source": [
    "scores = [x[1] for x in grid_search.cv_results_]"
   ]
  },
  {
   "cell_type": "code",
   "execution_count": 28,
   "metadata": {
    "ExecuteTime": {
     "end_time": "2021-04-26T09:34:19.839649Z",
     "start_time": "2021-04-26T09:34:19.835674Z"
    }
   },
   "outputs": [],
   "source": [
    "scores = np.array(scores).reshape(14)"
   ]
  },
  {
   "cell_type": "code",
   "execution_count": 29,
   "metadata": {
    "ExecuteTime": {
     "end_time": "2021-04-26T09:34:21.468237Z",
     "start_time": "2021-04-26T09:34:21.104155Z"
    }
   },
   "outputs": [],
   "source": [
    "# MODULE FOR CONFUSION MATRIX\n",
    "\n",
    "import matplotlib.pyplot as plt\n",
    "%matplotlib inline\n",
    "import numpy as np\n",
    "import itertools\n",
    "def plot_confusion_matrix(cm, classes,\n",
    "                          normalize=False,\n",
    "                          title='Confusion Matrix Niblack',\n",
    "                          cmap=plt.cm.Blues):\n",
    "    \"\"\"\n",
    "    This function prints and plots the confusion matrix.\n",
    "    Normalization can be applied by setting `normalize=True`.\n",
    "    \"\"\"\n",
    "    if normalize:\n",
    "        cm = cm.astype('float') / cm.sum(axis=1)[:, np.newaxis]\n",
    "        print(\"Normalized confusion matrix\")\n",
    "    else:\n",
    "        print('Confusion matrix, without normalization')\n",
    "\n",
    "    print(cm)\n",
    "\n",
    "    plt.imshow(cm, interpolation='nearest', cmap=cmap)\n",
    "    plt.title(title)\n",
    "    plt.colorbar()\n",
    "    tick_marks = np.arange(len(classes))\n",
    "    plt.xticks(tick_marks, classes, rotation=45)\n",
    "    plt.yticks(tick_marks, classes)\n",
    "\n",
    "    fmt = '.2f' if normalize else 'd'\n",
    "    thresh = cm.max() / 2.\n",
    "    for i, j in itertools.product(range(cm.shape[0]), range(cm.shape[1])):\n",
    "        plt.text(j, i, format(cm[i, j], fmt),\n",
    "                 horizontalalignment=\"center\",\n",
    "                 color=\"white\" if cm[i, j] > thresh else \"black\")\n",
    "\n",
    "    plt.tight_layout()\n",
    "    plt.ylabel('True label')\n",
    "    plt.xlabel('Predicted label')"
   ]
  },
  {
   "cell_type": "code",
   "execution_count": 30,
   "metadata": {
    "ExecuteTime": {
     "end_time": "2021-04-26T09:34:28.242128Z",
     "start_time": "2021-04-26T09:34:28.035129Z"
    }
   },
   "outputs": [
    {
     "name": "stdout",
     "output_type": "stream",
     "text": [
      "Confusion matrix, without normalization\n",
      "[[11  9]\n",
      " [ 2 29]]\n"
     ]
    },
    {
     "data": {
      "image/png": "[encoded data removed]",
      "text/plain": [
       "<Figure size 432x288 with 2 Axes>"
      ]
     },
     "metadata": {
      "needs_background": "light"
     },
     "output_type": "display_data"
    }
   ],
   "source": [
    "plt.figure()\n",
    "plot_confusion_matrix(confusion_matrix(y_test, grid_search.predict(X_test)), classes=[0,1], normalize=False,\n",
    "                      title='Confusion Matrix Otsu')"
   ]
  },
  {
   "cell_type": "code",
   "execution_count": null,
   "metadata": {},
   "outputs": [],
   "source": []
  }
 ],
 "metadata": {
  "kernelspec": {
   "display_name": "Python (sandbox)",
   "language": "python",
   "name": "sandbox"
  },
  "language_info": {
   "codemirror_mode": {
    "name": "ipython",
    "version": 3
   },
   "file_extension": ".py",
   "mimetype": "text/x-python",
   "name": "python",
   "nbconvert_exporter": "python",
   "pygments_lexer": "ipython3",
   "version": "3.7.8"
  }
 },
 "nbformat": 4,
 "nbformat_minor": 2
}
