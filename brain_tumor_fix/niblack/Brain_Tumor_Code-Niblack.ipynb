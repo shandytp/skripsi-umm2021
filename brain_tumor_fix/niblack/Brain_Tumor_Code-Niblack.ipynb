{
 "cells": [
  {
   "cell_type": "markdown",
   "metadata": {},
   "source": [
    "# Model Initialization "
   ]
  },
  {
   "cell_type": "code",
   "execution_count": 1,
   "metadata": {
    "ExecuteTime": {
     "end_time": "2021-04-26T08:46:14.289068Z",
     "start_time": "2021-04-26T08:46:06.006213Z"
    }
   },
   "outputs": [],
   "source": [
    "import numpy as np\n",
    "import os\n",
    "import cv2\n",
    "from tensorflow.keras.models import Sequential\n",
    "from tensorflow.keras.layers import Convolution2D, MaxPooling2D, Flatten, Dense\n",
    "from tensorflow.keras.optimizers import Adam"
   ]
  },
  {
   "cell_type": "code",
   "execution_count": 2,
   "metadata": {
    "ExecuteTime": {
     "end_time": "2021-04-26T08:46:19.556693Z",
     "start_time": "2021-04-26T08:46:14.293056Z"
    }
   },
   "outputs": [
    {
     "name": "stdout",
     "output_type": "stream",
     "text": [
      "Model: \"sequential\"\n",
      "_________________________________________________________________\n",
      "Layer (type)                 Output Shape              Param #   \n",
      "=================================================================\n",
      "conv2d (Conv2D)              (None, 333, 333, 32)      896       \n",
      "_________________________________________________________________\n",
      "max_pooling2d (MaxPooling2D) (None, 166, 166, 32)      0         \n",
      "_________________________________________________________________\n",
      "conv2d_1 (Conv2D)            (None, 55, 55, 32)        9248      \n",
      "_________________________________________________________________\n",
      "max_pooling2d_1 (MaxPooling2 (None, 27, 27, 32)        0         \n",
      "_________________________________________________________________\n",
      "conv2d_2 (Conv2D)            (None, 9, 9, 32)          9248      \n",
      "_________________________________________________________________\n",
      "max_pooling2d_2 (MaxPooling2 (None, 4, 4, 32)          0         \n",
      "_________________________________________________________________\n",
      "flatten (Flatten)            (None, 512)               0         \n",
      "=================================================================\n",
      "Total params: 19,392\n",
      "Trainable params: 19,392\n",
      "Non-trainable params: 0\n",
      "_________________________________________________________________\n"
     ]
    }
   ],
   "source": [
    "classifier = Sequential()\n",
    "classifier.add(Convolution2D(32, (3,3),strides= (3,3), input_shape=(1000,1000,3), activation='relu'))\n",
    "classifier.add(MaxPooling2D(pool_size=(2,2)))\n",
    "classifier.add(Convolution2D(32, (3,3),strides= (3,3), input_shape=(1000,1000,3), activation='relu'))\n",
    "classifier.add(MaxPooling2D(pool_size=(2,2)))\n",
    "classifier.add(Convolution2D(32, (3,3),strides= (3,3), input_shape=(1000,1000,3), activation='relu'))\n",
    "classifier.add(MaxPooling2D(pool_size=(2,2)))\n",
    "classifier.add(Flatten())\n",
    "\n",
    "classifier.summary()"
   ]
  },
  {
   "cell_type": "markdown",
   "metadata": {},
   "source": [
    "# Preprocessing "
   ]
  },
  {
   "cell_type": "code",
   "execution_count": 3,
   "metadata": {
    "ExecuteTime": {
     "end_time": "2021-04-26T08:46:19.562825Z",
     "start_time": "2021-04-26T08:46:19.556693Z"
    }
   },
   "outputs": [],
   "source": [
    "X = np.ones((253, 512))"
   ]
  },
  {
   "cell_type": "code",
   "execution_count": 4,
   "metadata": {
    "ExecuteTime": {
     "end_time": "2021-04-26T08:46:19.578781Z",
     "start_time": "2021-04-26T08:46:19.565789Z"
    }
   },
   "outputs": [],
   "source": [
    "i = 0"
   ]
  },
  {
   "cell_type": "code",
   "execution_count": 5,
   "metadata": {
    "ExecuteTime": {
     "end_time": "2020-10-21T10:27:09.232418Z",
     "start_time": "2020-10-21T10:27:09.228410Z"
    }
   },
   "outputs": [],
   "source": [
    "# base_dir = 'brain_tumor_output/'\n",
    "\n",
    "# train_dir = os.path.join(base_dir, 'train') \n",
    "# validation_dir = os.path.join(base_dir, 'val')\n",
    "\n",
    "# train_tumor_dir = os.path.join(train_dir, 'yes')\n",
    "# train_normal_dir = os.path.join(train_dir, 'no')\n",
    "\n",
    "# validation_tumor_dir = os.path.join(validation_dir, 'yes')\n",
    "# validation_normal_dir = os.path.join(validation_dir, 'no')"
   ]
  },
  {
   "cell_type": "code",
   "execution_count": 12,
   "metadata": {
    "ExecuteTime": {
     "end_time": "2020-10-21T10:14:33.774744Z",
     "start_time": "2020-10-21T10:14:33.768718Z"
    }
   },
   "outputs": [],
   "source": [
    "# # os.chdir('brain_tumor_output/train/yes/')\n",
    "# def preprocessing(filenames):\n",
    "#     for filename in os.listdir(filenames):\n",
    "#         img = cv2.imread(filename)\n",
    "#         img = cv2.resize(img,(1000,1000))\n",
    "#         img = np.divide(img,255)\n",
    "#         img = img.reshape(1,1000,1000,3)\n",
    "#         X[i] = model.predict(img)\n",
    "#         i = i + 1"
   ]
  },
  {
   "cell_type": "code",
   "execution_count": 13,
   "metadata": {
    "ExecuteTime": {
     "end_time": "2020-10-21T10:14:34.624810Z",
     "start_time": "2020-10-21T10:14:34.602198Z"
    }
   },
   "outputs": [
    {
     "ename": "error",
     "evalue": "OpenCV(4.2.0) ..\\modules\\imgproc\\src\\resize.cpp:4045: error: (-215:Assertion failed) !ssize.empty() in function 'cv::resize'\n",
     "output_type": "error",
     "traceback": [
      "\u001b[1;31m---------------------------------------------------------------------------\u001b[0m",
      "\u001b[1;31merror\u001b[0m                                     Traceback (most recent call last)",
      "\u001b[1;32m<ipython-input-13-59d02c0362d7>\u001b[0m in \u001b[0;36m<module>\u001b[1;34m\u001b[0m\n\u001b[1;32m----> 1\u001b[1;33m \u001b[0mpreprocessing\u001b[0m\u001b[1;33m(\u001b[0m\u001b[0mtrain_tumor_dir\u001b[0m\u001b[1;33m)\u001b[0m\u001b[1;33m\u001b[0m\u001b[1;33m\u001b[0m\u001b[0m\n\u001b[0m\u001b[0;32m      2\u001b[0m \u001b[0mpreprocessing\u001b[0m\u001b[1;33m(\u001b[0m\u001b[0mtrain_normal_dir\u001b[0m\u001b[1;33m)\u001b[0m\u001b[1;33m\u001b[0m\u001b[1;33m\u001b[0m\u001b[0m\n\u001b[0;32m      3\u001b[0m \u001b[0mpreprocessing\u001b[0m\u001b[1;33m(\u001b[0m\u001b[0mvalidation_tumor_dir\u001b[0m\u001b[1;33m)\u001b[0m\u001b[1;33m\u001b[0m\u001b[1;33m\u001b[0m\u001b[0m\n\u001b[0;32m      4\u001b[0m \u001b[0mpreprocessing\u001b[0m\u001b[1;33m(\u001b[0m\u001b[0mvalidation_normal_dir\u001b[0m\u001b[1;33m)\u001b[0m\u001b[1;33m\u001b[0m\u001b[1;33m\u001b[0m\u001b[0m\n",
      "\u001b[1;32m<ipython-input-12-b000f6144db6>\u001b[0m in \u001b[0;36mpreprocessing\u001b[1;34m(filenames)\u001b[0m\n\u001b[0;32m      3\u001b[0m     \u001b[1;32mfor\u001b[0m \u001b[0mfilename\u001b[0m \u001b[1;32min\u001b[0m \u001b[0mos\u001b[0m\u001b[1;33m.\u001b[0m\u001b[0mlistdir\u001b[0m\u001b[1;33m(\u001b[0m\u001b[0mfilenames\u001b[0m\u001b[1;33m)\u001b[0m\u001b[1;33m:\u001b[0m\u001b[1;33m\u001b[0m\u001b[1;33m\u001b[0m\u001b[0m\n\u001b[0;32m      4\u001b[0m         \u001b[0mimg\u001b[0m \u001b[1;33m=\u001b[0m \u001b[0mcv2\u001b[0m\u001b[1;33m.\u001b[0m\u001b[0mimread\u001b[0m\u001b[1;33m(\u001b[0m\u001b[0mfilename\u001b[0m\u001b[1;33m)\u001b[0m\u001b[1;33m\u001b[0m\u001b[1;33m\u001b[0m\u001b[0m\n\u001b[1;32m----> 5\u001b[1;33m         \u001b[0mimg\u001b[0m \u001b[1;33m=\u001b[0m \u001b[0mcv2\u001b[0m\u001b[1;33m.\u001b[0m\u001b[0mresize\u001b[0m\u001b[1;33m(\u001b[0m\u001b[0mimg\u001b[0m\u001b[1;33m,\u001b[0m\u001b[1;33m(\u001b[0m\u001b[1;36m1000\u001b[0m\u001b[1;33m,\u001b[0m\u001b[1;36m1000\u001b[0m\u001b[1;33m)\u001b[0m\u001b[1;33m)\u001b[0m\u001b[1;33m\u001b[0m\u001b[1;33m\u001b[0m\u001b[0m\n\u001b[0m\u001b[0;32m      6\u001b[0m         \u001b[0mimg\u001b[0m \u001b[1;33m=\u001b[0m \u001b[0mnp\u001b[0m\u001b[1;33m.\u001b[0m\u001b[0mdivide\u001b[0m\u001b[1;33m(\u001b[0m\u001b[0mimg\u001b[0m\u001b[1;33m,\u001b[0m\u001b[1;36m255\u001b[0m\u001b[1;33m)\u001b[0m\u001b[1;33m\u001b[0m\u001b[1;33m\u001b[0m\u001b[0m\n\u001b[0;32m      7\u001b[0m         \u001b[0mimg\u001b[0m \u001b[1;33m=\u001b[0m \u001b[0mimg\u001b[0m\u001b[1;33m.\u001b[0m\u001b[0mreshape\u001b[0m\u001b[1;33m(\u001b[0m\u001b[1;36m1\u001b[0m\u001b[1;33m,\u001b[0m\u001b[1;36m1000\u001b[0m\u001b[1;33m,\u001b[0m\u001b[1;36m1000\u001b[0m\u001b[1;33m,\u001b[0m\u001b[1;36m3\u001b[0m\u001b[1;33m)\u001b[0m\u001b[1;33m\u001b[0m\u001b[1;33m\u001b[0m\u001b[0m\n",
      "\u001b[1;31merror\u001b[0m: OpenCV(4.2.0) ..\\modules\\imgproc\\src\\resize.cpp:4045: error: (-215:Assertion failed) !ssize.empty() in function 'cv::resize'\n"
     ]
    }
   ],
   "source": [
    "# preprocessing(train_tumor_dir)\n",
    "# preprocessing(train_normal_dir)\n",
    "# preprocessing(validation_tumor_dir)\n",
    "# preprocessing(validation_normal_dir)"
   ]
  },
  {
   "cell_type": "code",
   "execution_count": 5,
   "metadata": {
    "ExecuteTime": {
     "end_time": "2021-04-26T08:48:49.134115Z",
     "start_time": "2021-04-26T08:48:49.128122Z"
    }
   },
   "outputs": [],
   "source": [
    "TRAIN_YES = 'D:/Kuliah baru/SMT 8/Coding Skripsi/brain_tumor_fix/niblack/train/yes'\n",
    "TRAIN_NO = 'D:/Kuliah baru/SMT 8/Coding Skripsi/brain_tumor_fix/niblack/train/no'\n",
    "VAL_YES = 'D:/Kuliah baru/SMT 8/Coding Skripsi/brain_tumor_fix/niblack/val/yes'\n",
    "VAL_NO = 'D:/Kuliah baru/SMT 8/Coding Skripsi/brain_tumor_fix/niblack/val/no'"
   ]
  },
  {
   "cell_type": "code",
   "execution_count": 6,
   "metadata": {
    "ExecuteTime": {
     "end_time": "2021-04-26T08:49:32.847797Z",
     "start_time": "2021-04-26T08:49:09.491235Z"
    }
   },
   "outputs": [],
   "source": [
    "os.chdir(TRAIN_YES)\n",
    "for filename in os.listdir(TRAIN_YES):\n",
    "    img = cv2.imread(filename)\n",
    "    img = cv2.resize(img,(1000,1000))\n",
    "    img = np.divide(img,255)\n",
    "    img = img.reshape(1,1000,1000,3)\n",
    "    X[i] = classifier.predict(img)\n",
    "    i = i + 1"
   ]
  },
  {
   "cell_type": "code",
   "execution_count": 7,
   "metadata": {
    "ExecuteTime": {
     "end_time": "2021-04-26T08:50:09.007347Z",
     "start_time": "2021-04-26T08:50:00.218405Z"
    }
   },
   "outputs": [],
   "source": [
    "os.chdir(TRAIN_NO)\n",
    "for filename in os.listdir(TRAIN_NO):\n",
    "    img = cv2.imread(filename)\n",
    "    img = cv2.resize(img,(1000,1000))\n",
    "    img = np.divide(img,255)\n",
    "    img = img.reshape(1,1000,1000,3)\n",
    "    X[i] = classifier.predict(img)\n",
    "    i = i + 1"
   ]
  },
  {
   "cell_type": "code",
   "execution_count": 8,
   "metadata": {
    "ExecuteTime": {
     "end_time": "2021-04-26T08:50:12.095862Z",
     "start_time": "2021-04-26T08:50:09.007347Z"
    }
   },
   "outputs": [],
   "source": [
    "os.chdir(VAL_YES)\n",
    "for filename in os.listdir(VAL_YES):\n",
    "    img = cv2.imread(filename)\n",
    "    img = cv2.resize(img,(1000,1000))\n",
    "    img = np.divide(img,255)\n",
    "    img = img.reshape(1,1000,1000,3)\n",
    "    X[i] = classifier.predict(img)\n",
    "    i = i + 1"
   ]
  },
  {
   "cell_type": "code",
   "execution_count": 9,
   "metadata": {
    "ExecuteTime": {
     "end_time": "2021-04-26T08:50:14.047955Z",
     "start_time": "2021-04-26T08:50:12.095862Z"
    }
   },
   "outputs": [],
   "source": [
    "os.chdir(VAL_NO)\n",
    "for filename in os.listdir(VAL_NO):\n",
    "    img = cv2.imread(filename)\n",
    "    img = cv2.resize(img,(1000,1000))\n",
    "    img = np.divide(img,255)\n",
    "    img = img.reshape(1,1000,1000,3)\n",
    "    X[i] = classifier.predict(img)\n",
    "    i = i + 1"
   ]
  },
  {
   "cell_type": "code",
   "execution_count": 10,
   "metadata": {
    "ExecuteTime": {
     "end_time": "2021-04-26T08:50:41.838473Z",
     "start_time": "2021-04-26T08:50:41.830083Z"
    }
   },
   "outputs": [],
   "source": [
    "y = np.concatenate((np.ones(121), np.zeros(79), np.ones(34), np.zeros(19)))"
   ]
  },
  {
   "cell_type": "markdown",
   "metadata": {},
   "source": [
    "# Preparation Training and Test Splitting "
   ]
  },
  {
   "cell_type": "code",
   "execution_count": 11,
   "metadata": {
    "ExecuteTime": {
     "end_time": "2021-04-26T08:50:47.284295Z",
     "start_time": "2021-04-26T08:50:46.607943Z"
    }
   },
   "outputs": [
    {
     "data": {
      "text/plain": [
       "((202, 512), (51, 512), (202,), (51,))"
      ]
     },
     "execution_count": 11,
     "metadata": {},
     "output_type": "execute_result"
    }
   ],
   "source": [
    "from sklearn.model_selection import train_test_split\n",
    "\n",
    "X_train, X_test, y_train, y_test = train_test_split(X, y, test_size=0.2, random_state=9875)\n",
    "X_train.shape, X_test.shape, y_train.shape, y_test.shape"
   ]
  },
  {
   "cell_type": "code",
   "execution_count": 12,
   "metadata": {
    "ExecuteTime": {
     "end_time": "2021-04-26T08:50:53.803613Z",
     "start_time": "2021-04-26T08:50:53.683057Z"
    }
   },
   "outputs": [],
   "source": [
    "from sklearn.svm import LinearSVC\n",
    "from sklearn.model_selection import GridSearchCV\n",
    "\n",
    "model = LinearSVC()\n",
    "parameters = {'C':[0.1,1,10,100,1000,10000,100000]}\n",
    "grid_search = GridSearchCV(param_grid = parameters, estimator = model, verbose = 3)"
   ]
  },
  {
   "cell_type": "code",
   "execution_count": 13,
   "metadata": {
    "ExecuteTime": {
     "end_time": "2021-04-26T08:50:57.449744Z",
     "start_time": "2021-04-26T08:50:54.681976Z"
    }
   },
   "outputs": [
    {
     "name": "stdout",
     "output_type": "stream",
     "text": [
      "Fitting 5 folds for each of 7 candidates, totalling 35 fits\n",
      "[CV] C=0.1 ...........................................................\n",
      "[CV] ............................... C=0.1, score=0.780, total=   0.0s\n",
      "[CV] C=0.1 ...........................................................\n",
      "[CV] ............................... C=0.1, score=0.707, total=   0.0s\n",
      "[CV] C=0.1 ...........................................................\n",
      "[CV] ............................... C=0.1, score=0.600, total=   0.0s\n",
      "[CV] C=0.1 ...........................................................\n",
      "[CV] ............................... C=0.1, score=0.750, total=   0.0s\n",
      "[CV] C=0.1 ...........................................................\n",
      "[CV] ............................... C=0.1, score=0.700, total=   0.0s\n",
      "[CV] C=1 .............................................................\n",
      "[CV] ................................. C=1, score=0.805, total=   0.0s\n",
      "[CV] C=1 .............................................................\n",
      "[CV] ................................. C=1, score=0.732, total=   0.0s\n",
      "[CV] C=1 .............................................................\n",
      "[CV] ................................. C=1, score=0.700, total=   0.0s\n",
      "[CV] C=1 .............................................................\n"
     ]
    },
    {
     "name": "stderr",
     "output_type": "stream",
     "text": [
      "[Parallel(n_jobs=1)]: Using backend SequentialBackend with 1 concurrent workers.\n",
      "[Parallel(n_jobs=1)]: Done   1 out of   1 | elapsed:    0.0s remaining:    0.0s\n",
      "[Parallel(n_jobs=1)]: Done   2 out of   2 | elapsed:    0.0s remaining:    0.0s\n"
     ]
    },
    {
     "name": "stdout",
     "output_type": "stream",
     "text": [
      "[CV] ................................. C=1, score=0.825, total=   0.0s\n",
      "[CV] C=1 .............................................................\n",
      "[CV] ................................. C=1, score=0.750, total=   0.0s\n",
      "[CV] C=10 ............................................................\n",
      "[CV] ................................ C=10, score=0.707, total=   0.1s\n",
      "[CV] C=10 ............................................................\n"
     ]
    },
    {
     "name": "stderr",
     "output_type": "stream",
     "text": [
      "C:\\Users\\shand\\anaconda3\\envs\\sandbox\\lib\\site-packages\\sklearn\\svm\\_base.py:977: ConvergenceWarning: Liblinear failed to converge, increase the number of iterations.\n",
      "  \"the number of iterations.\", ConvergenceWarning)\n",
      "C:\\Users\\shand\\anaconda3\\envs\\sandbox\\lib\\site-packages\\sklearn\\svm\\_base.py:977: ConvergenceWarning: Liblinear failed to converge, increase the number of iterations.\n",
      "  \"the number of iterations.\", ConvergenceWarning)\n",
      "C:\\Users\\shand\\anaconda3\\envs\\sandbox\\lib\\site-packages\\sklearn\\svm\\_base.py:977: ConvergenceWarning: Liblinear failed to converge, increase the number of iterations.\n",
      "  \"the number of iterations.\", ConvergenceWarning)\n"
     ]
    },
    {
     "name": "stdout",
     "output_type": "stream",
     "text": [
      "[CV] ................................ C=10, score=0.732, total=   0.1s\n",
      "[CV] C=10 ............................................................\n",
      "[CV] ................................ C=10, score=0.675, total=   0.1s\n",
      "[CV] C=10 ............................................................\n"
     ]
    },
    {
     "name": "stderr",
     "output_type": "stream",
     "text": [
      "C:\\Users\\shand\\anaconda3\\envs\\sandbox\\lib\\site-packages\\sklearn\\svm\\_base.py:977: ConvergenceWarning: Liblinear failed to converge, increase the number of iterations.\n",
      "  \"the number of iterations.\", ConvergenceWarning)\n",
      "C:\\Users\\shand\\anaconda3\\envs\\sandbox\\lib\\site-packages\\sklearn\\svm\\_base.py:977: ConvergenceWarning: Liblinear failed to converge, increase the number of iterations.\n",
      "  \"the number of iterations.\", ConvergenceWarning)\n"
     ]
    },
    {
     "name": "stdout",
     "output_type": "stream",
     "text": [
      "[CV] ................................ C=10, score=0.775, total=   0.1s\n",
      "[CV] C=10 ............................................................\n",
      "[CV] ................................ C=10, score=0.675, total=   0.1s\n",
      "[CV] C=100 ...........................................................\n"
     ]
    },
    {
     "name": "stderr",
     "output_type": "stream",
     "text": [
      "C:\\Users\\shand\\anaconda3\\envs\\sandbox\\lib\\site-packages\\sklearn\\svm\\_base.py:977: ConvergenceWarning: Liblinear failed to converge, increase the number of iterations.\n",
      "  \"the number of iterations.\", ConvergenceWarning)\n",
      "C:\\Users\\shand\\anaconda3\\envs\\sandbox\\lib\\site-packages\\sklearn\\svm\\_base.py:977: ConvergenceWarning: Liblinear failed to converge, increase the number of iterations.\n",
      "  \"the number of iterations.\", ConvergenceWarning)\n",
      "C:\\Users\\shand\\anaconda3\\envs\\sandbox\\lib\\site-packages\\sklearn\\svm\\_base.py:977: ConvergenceWarning: Liblinear failed to converge, increase the number of iterations.\n",
      "  \"the number of iterations.\", ConvergenceWarning)\n"
     ]
    },
    {
     "name": "stdout",
     "output_type": "stream",
     "text": [
      "[CV] ............................... C=100, score=0.683, total=   0.1s\n",
      "[CV] C=100 ...........................................................\n",
      "[CV] ............................... C=100, score=0.732, total=   0.1s\n",
      "[CV] C=100 ...........................................................\n",
      "[CV] ............................... C=100, score=0.625, total=   0.1s\n",
      "[CV] C=100 ...........................................................\n"
     ]
    },
    {
     "name": "stderr",
     "output_type": "stream",
     "text": [
      "C:\\Users\\shand\\anaconda3\\envs\\sandbox\\lib\\site-packages\\sklearn\\svm\\_base.py:977: ConvergenceWarning: Liblinear failed to converge, increase the number of iterations.\n",
      "  \"the number of iterations.\", ConvergenceWarning)\n",
      "C:\\Users\\shand\\anaconda3\\envs\\sandbox\\lib\\site-packages\\sklearn\\svm\\_base.py:977: ConvergenceWarning: Liblinear failed to converge, increase the number of iterations.\n",
      "  \"the number of iterations.\", ConvergenceWarning)\n"
     ]
    },
    {
     "name": "stdout",
     "output_type": "stream",
     "text": [
      "[CV] ............................... C=100, score=0.775, total=   0.1s\n",
      "[CV] C=100 ...........................................................\n",
      "[CV] ............................... C=100, score=0.675, total=   0.1s\n",
      "[CV] C=1000 ..........................................................\n"
     ]
    },
    {
     "name": "stderr",
     "output_type": "stream",
     "text": [
      "C:\\Users\\shand\\anaconda3\\envs\\sandbox\\lib\\site-packages\\sklearn\\svm\\_base.py:977: ConvergenceWarning: Liblinear failed to converge, increase the number of iterations.\n",
      "  \"the number of iterations.\", ConvergenceWarning)\n",
      "C:\\Users\\shand\\anaconda3\\envs\\sandbox\\lib\\site-packages\\sklearn\\svm\\_base.py:977: ConvergenceWarning: Liblinear failed to converge, increase the number of iterations.\n",
      "  \"the number of iterations.\", ConvergenceWarning)\n",
      "C:\\Users\\shand\\anaconda3\\envs\\sandbox\\lib\\site-packages\\sklearn\\svm\\_base.py:977: ConvergenceWarning: Liblinear failed to converge, increase the number of iterations.\n",
      "  \"the number of iterations.\", ConvergenceWarning)\n"
     ]
    },
    {
     "name": "stdout",
     "output_type": "stream",
     "text": [
      "[CV] .............................. C=1000, score=0.683, total=   0.1s\n",
      "[CV] C=1000 ..........................................................\n",
      "[CV] .............................. C=1000, score=0.756, total=   0.1s\n",
      "[CV] C=1000 ..........................................................\n",
      "[CV] .............................. C=1000, score=0.625, total=   0.1s\n",
      "[CV] C=1000 ..........................................................\n"
     ]
    },
    {
     "name": "stderr",
     "output_type": "stream",
     "text": [
      "C:\\Users\\shand\\anaconda3\\envs\\sandbox\\lib\\site-packages\\sklearn\\svm\\_base.py:977: ConvergenceWarning: Liblinear failed to converge, increase the number of iterations.\n",
      "  \"the number of iterations.\", ConvergenceWarning)\n",
      "C:\\Users\\shand\\anaconda3\\envs\\sandbox\\lib\\site-packages\\sklearn\\svm\\_base.py:977: ConvergenceWarning: Liblinear failed to converge, increase the number of iterations.\n",
      "  \"the number of iterations.\", ConvergenceWarning)\n",
      "C:\\Users\\shand\\anaconda3\\envs\\sandbox\\lib\\site-packages\\sklearn\\svm\\_base.py:977: ConvergenceWarning: Liblinear failed to converge, increase the number of iterations.\n",
      "  \"the number of iterations.\", ConvergenceWarning)\n"
     ]
    },
    {
     "name": "stdout",
     "output_type": "stream",
     "text": [
      "[CV] .............................. C=1000, score=0.775, total=   0.1s\n",
      "[CV] C=1000 ..........................................................\n",
      "[CV] .............................. C=1000, score=0.650, total=   0.1s\n",
      "[CV] C=10000 .........................................................\n"
     ]
    },
    {
     "name": "stderr",
     "output_type": "stream",
     "text": [
      "C:\\Users\\shand\\anaconda3\\envs\\sandbox\\lib\\site-packages\\sklearn\\svm\\_base.py:977: ConvergenceWarning: Liblinear failed to converge, increase the number of iterations.\n",
      "  \"the number of iterations.\", ConvergenceWarning)\n",
      "C:\\Users\\shand\\anaconda3\\envs\\sandbox\\lib\\site-packages\\sklearn\\svm\\_base.py:977: ConvergenceWarning: Liblinear failed to converge, increase the number of iterations.\n",
      "  \"the number of iterations.\", ConvergenceWarning)\n"
     ]
    },
    {
     "name": "stdout",
     "output_type": "stream",
     "text": [
      "[CV] ............................. C=10000, score=0.683, total=   0.1s\n",
      "[CV] C=10000 .........................................................\n",
      "[CV] ............................. C=10000, score=0.756, total=   0.1s\n",
      "[CV] C=10000 .........................................................\n"
     ]
    },
    {
     "name": "stderr",
     "output_type": "stream",
     "text": [
      "C:\\Users\\shand\\anaconda3\\envs\\sandbox\\lib\\site-packages\\sklearn\\svm\\_base.py:977: ConvergenceWarning: Liblinear failed to converge, increase the number of iterations.\n",
      "  \"the number of iterations.\", ConvergenceWarning)\n",
      "C:\\Users\\shand\\anaconda3\\envs\\sandbox\\lib\\site-packages\\sklearn\\svm\\_base.py:977: ConvergenceWarning: Liblinear failed to converge, increase the number of iterations.\n",
      "  \"the number of iterations.\", ConvergenceWarning)\n",
      "C:\\Users\\shand\\anaconda3\\envs\\sandbox\\lib\\site-packages\\sklearn\\svm\\_base.py:977: ConvergenceWarning: Liblinear failed to converge, increase the number of iterations.\n",
      "  \"the number of iterations.\", ConvergenceWarning)\n"
     ]
    },
    {
     "name": "stdout",
     "output_type": "stream",
     "text": [
      "[CV] ............................. C=10000, score=0.625, total=   0.1s\n",
      "[CV] C=10000 .........................................................\n",
      "[CV] ............................. C=10000, score=0.775, total=   0.1s\n",
      "[CV] C=10000 .........................................................\n",
      "[CV] ............................. C=10000, score=0.650, total=   0.1s\n",
      "[CV] C=100000 ........................................................\n"
     ]
    },
    {
     "name": "stderr",
     "output_type": "stream",
     "text": [
      "C:\\Users\\shand\\anaconda3\\envs\\sandbox\\lib\\site-packages\\sklearn\\svm\\_base.py:977: ConvergenceWarning: Liblinear failed to converge, increase the number of iterations.\n",
      "  \"the number of iterations.\", ConvergenceWarning)\n"
     ]
    },
    {
     "name": "stdout",
     "output_type": "stream",
     "text": [
      "[CV] ............................ C=100000, score=0.683, total=   0.1s\n",
      "[CV] C=100000 ........................................................\n",
      "[CV] ............................ C=100000, score=0.756, total=   0.1s\n",
      "[CV] C=100000 ........................................................\n"
     ]
    },
    {
     "name": "stderr",
     "output_type": "stream",
     "text": [
      "C:\\Users\\shand\\anaconda3\\envs\\sandbox\\lib\\site-packages\\sklearn\\svm\\_base.py:977: ConvergenceWarning: Liblinear failed to converge, increase the number of iterations.\n",
      "  \"the number of iterations.\", ConvergenceWarning)\n",
      "C:\\Users\\shand\\anaconda3\\envs\\sandbox\\lib\\site-packages\\sklearn\\svm\\_base.py:977: ConvergenceWarning: Liblinear failed to converge, increase the number of iterations.\n",
      "  \"the number of iterations.\", ConvergenceWarning)\n",
      "C:\\Users\\shand\\anaconda3\\envs\\sandbox\\lib\\site-packages\\sklearn\\svm\\_base.py:977: ConvergenceWarning: Liblinear failed to converge, increase the number of iterations.\n",
      "  \"the number of iterations.\", ConvergenceWarning)\n",
      "[Parallel(n_jobs=1)]: Done  35 out of  35 | elapsed:    2.6s finished\n"
     ]
    },
    {
     "name": "stdout",
     "output_type": "stream",
     "text": [
      "[CV] ............................ C=100000, score=0.625, total=   0.1s\n",
      "[CV] C=100000 ........................................................\n",
      "[CV] ............................ C=100000, score=0.775, total=   0.1s\n",
      "[CV] C=100000 ........................................................\n",
      "[CV] ............................ C=100000, score=0.625, total=   0.1s\n"
     ]
    }
   ],
   "source": [
    "grid_search = grid_search.fit(X_train,y_train)"
   ]
  },
  {
   "cell_type": "code",
   "execution_count": 14,
   "metadata": {
    "ExecuteTime": {
     "end_time": "2021-04-26T08:50:59.534301Z",
     "start_time": "2021-04-26T08:50:59.525299Z"
    }
   },
   "outputs": [
    {
     "name": "stdout",
     "output_type": "stream",
     "text": [
      "Validation Accuracy: 0.8431372549019608\n",
      "Training Accuracy:   0.9653465346534653\n"
     ]
    }
   ],
   "source": [
    "print(\"Validation Accuracy:\",grid_search.score(X_test,y_test))\n",
    "print(\"Training Accuracy:  \",grid_search.score(X_train, y_train))"
   ]
  },
  {
   "cell_type": "code",
   "execution_count": 15,
   "metadata": {
    "ExecuteTime": {
     "end_time": "2021-04-26T08:51:01.376489Z",
     "start_time": "2021-04-26T08:51:01.369462Z"
    }
   },
   "outputs": [
    {
     "data": {
      "text/plain": [
       "{'C': 1}"
      ]
     },
     "execution_count": 15,
     "metadata": {},
     "output_type": "execute_result"
    }
   ],
   "source": [
    "grid_search.best_params_"
   ]
  },
  {
   "cell_type": "code",
   "execution_count": 16,
   "metadata": {
    "ExecuteTime": {
     "end_time": "2021-04-26T08:51:04.143569Z",
     "start_time": "2021-04-26T08:51:04.124569Z"
    }
   },
   "outputs": [
    {
     "name": "stdout",
     "output_type": "stream",
     "text": [
      "[[15  5]\n",
      " [ 3 28]]\n",
      "\n",
      "\n",
      "              precision    recall  f1-score   support\n",
      "\n",
      "         0.0       0.83      0.75      0.79        20\n",
      "         1.0       0.85      0.90      0.88        31\n",
      "\n",
      "    accuracy                           0.84        51\n",
      "   macro avg       0.84      0.83      0.83        51\n",
      "weighted avg       0.84      0.84      0.84        51\n",
      "\n"
     ]
    }
   ],
   "source": [
    "from sklearn.metrics import classification_report,confusion_matrix\n",
    "\n",
    "predictions=grid_search.predict(X_test)\n",
    "print(confusion_matrix(y_test,predictions))\n",
    "print('\\n')\n",
    "print(classification_report(y_test,predictions))"
   ]
  },
  {
   "cell_type": "markdown",
   "metadata": {},
   "source": [
    "https://stackoverflow.com/questions/20113206/scikit-learn-svc-decision-function-and-predict\n",
    "\n",
    "https://stats.stackexchange.com/questions/329857/what-is-the-difference-between-decision-function-predict-proba-and-predict-fun\n",
    "\n",
    "Pakai Decision Function atau Predict?"
   ]
  },
  {
   "cell_type": "code",
   "execution_count": 27,
   "metadata": {
    "ExecuteTime": {
     "end_time": "2021-04-26T09:26:37.523615Z",
     "start_time": "2021-04-26T09:26:37.512648Z"
    }
   },
   "outputs": [
    {
     "name": "stdout",
     "output_type": "stream",
     "text": [
      "F1-Score: 0.875\n",
      "Precision with Decision Function : 0.9224729488131223\n",
      "Precision with Predict Function : 0.8251969409464666\n"
     ]
    }
   ],
   "source": [
    "from sklearn.metrics import f1_score, average_precision_score\n",
    "\n",
    "y_score = grid_search.decision_function(X_test) #pairwise classifier\n",
    "f1score = f1_score(y_test, predictions)\n",
    "average_precision_decision = average_precision_score(y_test, y_score)\n",
    "average_precision_predict = average_precision_score(y_test, predictions)\n",
    "\n",
    "print(f'F1-Score: {f1score}')\n",
    "print(f'Precision with Decision Function : {average_precision_decision}')\n",
    "print(f'Precision with Predict Function : {average_precision_predict}')"
   ]
  },
  {
   "cell_type": "code",
   "execution_count": 17,
   "metadata": {
    "ExecuteTime": {
     "end_time": "2021-04-26T08:51:08.373247Z",
     "start_time": "2021-04-26T08:51:08.368246Z"
    }
   },
   "outputs": [],
   "source": [
    "scores = [x[1] for x in grid_search.cv_results_]"
   ]
  },
  {
   "cell_type": "code",
   "execution_count": 19,
   "metadata": {
    "ExecuteTime": {
     "end_time": "2021-04-26T08:51:15.338169Z",
     "start_time": "2021-04-26T08:51:15.335174Z"
    }
   },
   "outputs": [],
   "source": [
    "scores = np.array(scores).reshape(14)"
   ]
  },
  {
   "cell_type": "code",
   "execution_count": 22,
   "metadata": {
    "ExecuteTime": {
     "end_time": "2021-04-26T08:51:40.760873Z",
     "start_time": "2021-04-26T08:51:40.742906Z"
    }
   },
   "outputs": [],
   "source": [
    "# MODULE FOR CONFUSION MATRIX\n",
    "\n",
    "import matplotlib.pyplot as plt\n",
    "%matplotlib inline\n",
    "import numpy as np\n",
    "import itertools\n",
    "def plot_confusion_matrix(cm, classes,\n",
    "                          normalize=False,\n",
    "                          title='Confusion Matrix Niblack',\n",
    "                          cmap=plt.cm.Blues):\n",
    "    \"\"\"\n",
    "    This function prints and plots the confusion matrix.\n",
    "    Normalization can be applied by setting `normalize=True`.\n",
    "    \"\"\"\n",
    "    if normalize:\n",
    "        cm = cm.astype('float') / cm.sum(axis=1)[:, np.newaxis]\n",
    "        print(\"Normalized confusion matrix\")\n",
    "    else:\n",
    "        print('Confusion matrix, without normalization')\n",
    "\n",
    "    print(cm)\n",
    "\n",
    "    plt.imshow(cm, interpolation='nearest', cmap=cmap)\n",
    "    plt.title(title)\n",
    "    plt.colorbar()\n",
    "    tick_marks = np.arange(len(classes))\n",
    "    plt.xticks(tick_marks, classes, rotation=45)\n",
    "    plt.yticks(tick_marks, classes)\n",
    "\n",
    "    fmt = '.2f' if normalize else 'd'\n",
    "    thresh = cm.max() / 2.\n",
    "    for i, j in itertools.product(range(cm.shape[0]), range(cm.shape[1])):\n",
    "        plt.text(j, i, format(cm[i, j], fmt),\n",
    "                 horizontalalignment=\"center\",\n",
    "                 color=\"white\" if cm[i, j] > thresh else \"black\")\n",
    "\n",
    "    plt.tight_layout()\n",
    "    plt.ylabel('True label')\n",
    "    plt.xlabel('Predicted label')"
   ]
  },
  {
   "cell_type": "code",
   "execution_count": 23,
   "metadata": {
    "ExecuteTime": {
     "end_time": "2021-04-26T08:51:49.471356Z",
     "start_time": "2021-04-26T08:51:49.314834Z"
    }
   },
   "outputs": [
    {
     "name": "stdout",
     "output_type": "stream",
     "text": [
      "Confusion matrix, without normalization\n",
      "[[15  5]\n",
      " [ 3 28]]\n"
     ]
    },
    {
     "data": {
      "image/png": "[encoded data removed]",
      "text/plain": [
       "<Figure size 432x288 with 2 Axes>"
      ]
     },
     "metadata": {
      "needs_background": "light"
     },
     "output_type": "display_data"
    }
   ],
   "source": [
    "plt.figure()\n",
    "plot_confusion_matrix(confusion_matrix(y_test, grid_search.predict(X_test)), classes=[0,1], normalize=False,\n",
    "                      title='Confusion Matrix Niblack')"
   ]
  }
 ],
 "metadata": {
  "kernelspec": {
   "display_name": "Python (sandbox)",
   "language": "python",
   "name": "sandbox"
  },
  "language_info": {
   "codemirror_mode": {
    "name": "ipython",
    "version": 3
   },
   "file_extension": ".py",
   "mimetype": "text/x-python",
   "name": "python",
   "nbconvert_exporter": "python",
   "pygments_lexer": "ipython3",
   "version": "3.7.8"
  }
 },
 "nbformat": 4,
 "nbformat_minor": 2
}
